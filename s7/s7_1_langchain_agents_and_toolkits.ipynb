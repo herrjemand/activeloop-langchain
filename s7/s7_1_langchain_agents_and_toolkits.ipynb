{
 "cells": [
  {
   "cell_type": "code",
   "execution_count": 39,
   "metadata": {},
   "outputs": [],
   "source": [
    "from dotenv import load_dotenv\n",
    "load_dotenv(dotenv_path='../.env')\n",
    "import os\n",
    "\n",
    "from langchain.agents import AgentType, initialize_agent, load_tools\n",
    "from langchain.llms import OpenAI\n",
    "from langchain.utilities import GoogleSearchAPIWrapper, WolframAlphaAPIWrapper"
   ]
  },
  {
   "cell_type": "code",
   "execution_count": 27,
   "metadata": {},
   "outputs": [],
   "source": [
    "llm = OpenAI(model_name=\"text-davinci-003\", temperature=0.0, max_tokens=1000)\n",
    "tools = load_tools([\"serpapi\", \"requests_all\"], llm=llm)\n",
    "agent = initialize_agent(tools, llm, agent=AgentType.ZERO_SHOT_REACT_DESCRIPTION, verbose=True)"
   ]
  },
  {
   "cell_type": "code",
   "execution_count": 28,
   "metadata": {},
   "outputs": [
    {
     "name": "stdout",
     "output_type": "stream",
     "text": [
      "\n",
      "\n",
      "\u001b[1m> Entering new AgentExecutor chain...\u001b[0m\n",
      "\u001b[32;1m\u001b[1;3m midjourney is a website\n",
      "Action: Search\n",
      "Action Input: \"midjourney\"\u001b[0m\n",
      "Observation: \u001b[36;1m\u001b[1;3m['Midjourney is a generative artificial intelligence program and service created and hosted by San Francisco-based independent research lab Midjourney, Inc. Midjourney generates images from natural language descriptions, called \"prompts\", similar to OpenAI\\'s DALL-E and Stability AI\\'s Stable Diffusion.', 'Midjourney kgmid: /g/11t4b6xmqk.', 'Midjourney developer_s: Midjourney, Inc.', 'Midjourney initial_release: July 12, 2022; 15 months ago (open beta).', 'About. Midjourney is an independent research lab exploring new mediums of thought and expanding the imaginative powers of the human species. We are a ...']\u001b[0m\n",
      "Thought:\u001b[32;1m\u001b[1;3m midjourney is a generative artificial intelligence program and service created and hosted by San Francisco-based independent research lab Midjourney, Inc.\n",
      "Final Answer: Midjourney is a generative artificial intelligence program and service created and hosted by San Francisco-based independent research lab Midjourney, Inc.\u001b[0m\n",
      "\n",
      "\u001b[1m> Finished chain.\u001b[0m\n",
      "Midjourney is a generative artificial intelligence program and service created and hosted by San Francisco-based independent research lab Midjourney, Inc.\n"
     ]
    }
   ],
   "source": [
    "print(agent.run(\"tell me what is midjourney\"))"
   ]
  },
  {
   "cell_type": "markdown",
   "metadata": {},
   "source": [
    "# Google Search"
   ]
  },
  {
   "cell_type": "code",
   "execution_count": 31,
   "metadata": {},
   "outputs": [
    {
     "name": "stdout",
     "output_type": "stream",
     "text": [
      "[{'title': 'Madrid, Spain - Image of the Week - Earth Watching', 'link': 'https://earth.esa.int/web/earth-watching/image-of-the-week/content/-/article/madrid-spain/', 'snippet': 'Madrid is the capital and largest city of Spain. The population of the city is roughly 3.3 million and the entire population of the Madrid metropolitan area\\xa0...'}, {'title': 'Madrid | History, Population, Climate, & Facts | Britannica', 'link': 'https://www.britannica.com/place/Madrid', 'snippet': \"Madrid, city, capital of Spain and of Madrid provincia (province). Spain's arts and financial centre, the city proper and province form a comunidad autónoma\\xa0...\"}, {'title': 'Madrid - Eurocities', 'link': 'https://eurocities.eu/cities/madrid/', 'snippet': 'As the Spanish capital, Madrid is home to embassies and international organisations, major companies and financial institutions. It ranks first in Spain for the\\xa0...'}]\n"
     ]
    }
   ],
   "source": [
    "search = GoogleSearchAPIWrapper()\n",
    "print(search.results(\"What is the capital of Spain?\", 3) )"
   ]
  },
  {
   "cell_type": "code",
   "execution_count": 32,
   "metadata": {},
   "outputs": [
    {
     "name": "stdout",
     "output_type": "stream",
     "text": [
      "\n",
      "\n",
      "\u001b[1m> Entering new AgentExecutor chain...\u001b[0m\n",
      "\u001b[32;1m\u001b[1;3m I should research this online.\n",
      "Action: google_search\n",
      "Action Input: \"national drink in Spain\"\u001b[0m\n",
      "Observation: \u001b[36;1m\u001b[1;3mSangría is Spain's national drink, so of course it belongs on this list! Spain is famous for it's wine, which is the base of this drink. Lots of fresh fruit ... Although there is nothing officially considered the national alcoholic drink of Spain, many people would say is the Spanish sherry wine (also known as vino de ... Apr 20, 2021 ... Cava is the champagne of Spain and it comes in the form of a light, bubbly wine available in both white and rosé. Cava is often consumed ... \"Very Old Rare Sherry\", Pedro Ximenez by Garvey. Jerez de la Frontera (Andalusia, Spain), aged 30 years. Sherry is a national liquor of Spain. Nov 27, 2012 ... ... national drink (and that ampersands are expendable). From Cadiz in the south to San Sebastian in the north, the gin tonic is the undisputed ... Cava is Spain's version of Champagne. It's made in a very similar way, but with different grapes. Most cava grapes are grown in the Penedès region in Catalonia, ... Even out of the country, people recognize the sherry wine as a very typical drink from Spain. Of course, when talking about the Spanish national drink, we could ... Jul 10, 2022 ... But it couldn´t be another way, as wine is the national drink of Spain. ... If wine is the national drink of Spain, this is mostly due to its ... Gin Tonic – Spain's Obsession & National Drink · Little did we know, but our introduction to Spain's “national drink” began in 2012 at the home of Enrique Sr. Sep 5, 2023 ... In this massive register there is plenty of information about the food and drink that people in Spain have purchased, sold, prepared and ...\u001b[0m\n",
      "Thought:\u001b[32;1m\u001b[1;3m I now know the final answer\n",
      "Final Answer: Sherry wine is the national drink of Spain.\u001b[0m\n",
      "\n",
      "\u001b[1m> Finished chain.\u001b[0m\n",
      "{'input': 'What is the national drink in Spain?', 'output': 'Sherry wine is the national drink of Spain.'}\n"
     ]
    }
   ],
   "source": [
    "tools = load_tools([\"google-search\"])\n",
    "\n",
    "agent = initialize_agent(\n",
    "    tools=tools,\n",
    "    llm=llm,\n",
    "    agent=AgentType.ZERO_SHOT_REACT_DESCRIPTION,\n",
    "    verbose=True,\n",
    ")\n",
    "\n",
    "print(agent(\"What is the national drink in Spain?\"))"
   ]
  },
  {
   "cell_type": "code",
   "execution_count": 34,
   "metadata": {},
   "outputs": [
    {
     "name": "stdout",
     "output_type": "stream",
     "text": [
      "\n",
      "\n",
      "\u001b[1m> Entering new AgentExecutor chain...\u001b[0m\n",
      "\u001b[32;1m\u001b[1;3m I need to get the list of users from the URL\n",
      "Action: requests_get\n",
      "Action Input: https://652dfdd4f9afa8ef4b27f1cc.mockapi.io/users\u001b[0m\n",
      "Observation: \u001b[36;1m\u001b[1;3m[{\"createdAt\":\"2023-10-16T03:57:50.341Z\",\"name\":\"Clarence Thiel\",\"email\":\"Emmie_Stanton67@hotmail.com\",\"id\":\"1\"},{\"createdAt\":\"2023-10-16T06:47:12.939Z\",\"name\":\"Israel Kerluke\",\"email\":\"Vaughn_Rippin1@yahoo.com\",\"id\":\"2\"},{\"createdAt\":\"2023-10-16T18:06:52.867Z\",\"name\":\"Cecil Kertzmann\",\"email\":\"Cydney_Grady11@yahoo.com\",\"id\":\"3\"},{\"createdAt\":\"2023-10-17T02:02:35.516Z\",\"name\":\"Colin Stark\",\"email\":\"Tara_Fay21@yahoo.com\",\"id\":\"4\"},{\"createdAt\":\"2023-10-16T07:58:40.696Z\",\"name\":\"Mrs. Jimmie Ondricka\",\"email\":\"Ervin_Maggio@hotmail.com\",\"id\":\"5\"},{\"createdAt\":\"2023-10-16T18:02:39.672Z\",\"name\":\"Mrs. Roxanne Conn V\",\"email\":\"Mallie_Moen@hotmail.com\",\"id\":\"6\"},{\"createdAt\":\"2023-10-16T19:16:35.374Z\",\"name\":\"Guillermo Crist\",\"email\":\"Nico_Luettgen@gmail.com\",\"id\":\"7\"},{\"createdAt\":\"2023-10-16T16:32:35.642Z\",\"name\":\"Janis Koelpin\",\"email\":\"Merlin.Glover@gmail.com\",\"id\":\"8\"},{\"createdAt\":\"2023-10-16T09:08:22.227Z\",\"name\":\"Kelly Lakin I\",\"email\":\"Aylin44@gmail.com\",\"id\":\"9\"},{\"createdAt\":\"2023-10-16T09:28:21.931Z\",\"name\":\"Mr. Edgar Reichel\",\"email\":\"Jules6@hotmail.com\",\"id\":\"10\"},{\"createdAt\":\"2023-10-16T18:48:44.046Z\",\"name\":\"Donna Sawayn\",\"email\":\"Taya31@gmail.com\",\"id\":\"11\"},{\"createdAt\":\"2023-10-17T02:48:42.653Z\",\"name\":\"Kathleen Langworth\",\"email\":\"Stacy_Schowalter@yahoo.com\",\"id\":\"12\"},{\"createdAt\":\"2023-10-16T07:33:44.504Z\",\"name\":\"Randall Ward\",\"email\":\"Kelly88@yahoo.com\",\"id\":\"13\"},{\"createdAt\":\"2023-10-16T11:23:22.387Z\",\"name\":\"Lewis Cronin\",\"email\":\"Carroll82@hotmail.com\",\"id\":\"14\"},{\"createdAt\":\"2023-10-17T01:47:36.969Z\",\"name\":\"Marjorie Zieme\",\"email\":\"Bernie.Dickinson@gmail.com\",\"id\":\"15\"},{\"createdAt\":\"2023-10-16T14:46:39.188Z\",\"name\":\"Forrest Reichert\",\"email\":\"Roberto.Schmeler8@hotmail.com\",\"id\":\"16\"},{\"createdAt\":\"2023-10-16T21:32:44.038Z\",\"name\":\"Armando Dickens\",\"email\":\"Kade.Brakus20@gmail.com\",\"id\":\"17\"},{\"createdAt\":\"2023-10-16T04:32:52.866Z\",\"name\":\"Hubert Pacocha\",\"email\":\"Tiana.Schmitt@hotmail.com\",\"id\":\"18\"},{\"createdAt\":\"2023-10-16T12:14:17.084Z\",\"name\":\"Nancy Senger DVM\",\"email\":\"Dessie44@yahoo.com\",\"id\":\"19\"},{\"createdAt\":\"2023-10-16T15:50:09.700Z\",\"name\":\"Mr. Hubert Jenkins\",\"email\":\"Connie_DuBuque83@gmail.com\",\"id\":\"20\"},{\"createdAt\":\"2023-10-16T05:26:12.381Z\",\"name\":\"Miss Gustavo Beatty\",\"email\":\"Hettie.Wolff0@hotmail.com\",\"id\":\"21\"},{\"createdAt\":\"2023-10-17T02:40:39.650Z\",\"name\":\"Sophia Gerhold\",\"email\":\"Orpha43@yahoo.com\",\"id\":\"22\"},{\"createdAt\":\"2023-10-16T07:56:05.105Z\",\"name\":\"Nancy Schumm\",\"email\":\"Kaitlin_Bogan83@gmail.com\",\"id\":\"23\"},{\"createdAt\":\"2023-10-16T20:10:45.455Z\",\"name\":\"Sophia Schneider\",\"email\":\"Esmeralda_Klein4@hotmail.com\",\"id\":\"24\"},{\"createdAt\":\"2023-10-16T20:27:28.225Z\",\"name\":\"Perry Wolf\",\"email\":\"Cicero.Labadie74@gmail.com\",\"id\":\"25\"},{\"createdAt\":\"2023-10-16T16:25:49.069Z\",\"name\":\"Devin Gutmann DDS\",\"email\":\"Dallas_Flatley40@hotmail.com\",\"id\":\"26\"},{\"createdAt\":\"2023-10-16T18:32:48.421Z\",\"name\":\"Orlando Langworth\",\"email\":\"Cyril_Nicolas46@hotmail.com\",\"id\":\"27\"},{\"createdAt\":\"2023-10-16T23:13:21.896Z\",\"name\":\"Aubrey Renner\",\"email\":\"Danial2@yahoo.com\",\"id\":\"28\"},{\"createdAt\":\"2023-10-16T23:14:06.754Z\",\"name\":\"Nicolas Bayer PhD\",\"email\":\"Jenifer46@hotmail.com\",\"id\":\"29\"},{\"createdAt\":\"2023-10-16T06:31:44.364Z\",\"name\":\"Mrs. Shaun Cormier Jr.\",\"email\":\"Sally_Ullrich@gmail.com\",\"id\":\"30\"},{\"createdAt\":\"2023-10-16T09:45:46.874Z\",\"name\":\"Marilyn Krajcik\",\"email\":\"Irving.Grady65@hotmail.com\",\"id\":\"31\"},{\"createdAt\":\"2023-10-16T22:03:34.522Z\",\"name\":\"Camille Hettinger\",\"email\":\"Noel.Schumm80@hotmail.com\",\"id\":\"32\"},{\"createdAt\":\"2023-10-17T02:14:39.179Z\",\"name\":\"Dr. Charlie Cremin IV\",\"email\":\"Donato_Wiza@yahoo.com\",\"id\":\"33\"},{\"createdAt\":\"2023-10-17T01:14:40.539Z\",\"name\":\"Rosie Conroy\",\"email\":\"Maiya_Ritchie@hotmail.com\",\"id\":\"34\"},{\"createdAt\":\"2023-10-16T19:09:04.583Z\",\"name\":\"Earnest Ernser\",\"email\":\"Jewel43@yahoo.com\",\"id\":\"35\"},{\"createdAt\":\"2023-10-16T17:06:46.959Z\",\"name\":\"Kay Jacobson\",\"email\":\"Pearlie.Cormier51@gmail.com\",\"id\":\"36\"},{\"createdAt\":\"2023-10-17T03:16:37.637Z\",\"name\":\"Darlene Metz Jr.\",\"email\":\"Novella_Kuhlman71@yahoo.com\",\"id\":\"37\"},{\"createdAt\":\"2023-10-16T22:39:57.643Z\",\"name\":\"Roger Goodwin\",\"email\":\"Hershel79@hotmail.com\",\"id\":\"38\"},{\"createdAt\":\"2023-10-17T01:11:15.474Z\",\"name\":\"Todd Hayes\",\"email\":\"Seamus.Johns66@gmail.com\",\"id\":\"39\"},{\"createdAt\":\"2023-10-16T19:05:20.410Z\",\"name\":\"Terence Armstrong\",\"email\":\"Edmund_Rohan23@gmail.com\",\"id\":\"40\"},{\"createdAt\":\"2023-10-16T17:41:26.558Z\",\"name\":\"Mandy Bruen\",\"email\":\"Aron_Walsh@gmail.com\",\"id\":\"41\"},{\"createdAt\":\"2023-10-16T14:57:20.931Z\",\"name\":\"Alyssa Okuneva\",\"email\":\"Gordon.Grant52@yahoo.com\",\"id\":\"42\"},{\"createdAt\":\"2023-10-16T11:55:00.252Z\",\"name\":\"Kelly Farrell Jr.\",\"email\":\"Joanny.Luettgen@gmail.com\",\"id\":\"43\"},{\"createdAt\":\"2023-10-16T20:45:00.767Z\",\"name\":\"Lee Waters\",\"email\":\"Crawford_McKenzie@gmail.com\",\"id\":\"44\"},{\"createdAt\":\"2023-10-17T02:24:25.180Z\",\"name\":\"Rhonda VonRueden\",\"email\":\"Oral_Mante5@gmail.com\",\"id\":\"45\"},{\"createdAt\":\"2023-10-16T03:41:55.411Z\",\"name\":\"Dr. Marcos Dooley Jr.\",\"email\":\"Darlene95@yahoo.com\",\"id\":\"46\"}]\u001b[0m\n",
      "Thought:\u001b[32;1m\u001b[1;3m I now know the total number of users\n",
      "Final Answer: There are 46 users.\u001b[0m\n",
      "\n",
      "\u001b[1m> Finished chain.\u001b[0m\n"
     ]
    }
   ],
   "source": [
    "tools = load_tools([\"requests_all\"], llm=llm)\n",
    "agent = initialize_agent(\n",
    "    tools=tools,\n",
    "    llm=llm,\n",
    "    agent=AgentType.ZERO_SHOT_REACT_DESCRIPTION,\n",
    "    verbose=True,\n",
    ")\n",
    "\n",
    "response = agent(\"Get the list of users at https://652dfdd4f9afa8ef4b27f1cc.mockapi.io/users and tell me the total number of users\")"
   ]
  },
  {
   "cell_type": "markdown",
   "metadata": {},
   "source": [
    "# REPL"
   ]
  },
  {
   "cell_type": "code",
   "execution_count": 35,
   "metadata": {},
   "outputs": [
    {
     "name": "stdout",
     "output_type": "stream",
     "text": [
      "\n",
      "\n",
      "\u001b[1m> Entering new AgentExecutor chain...\u001b[0m\n"
     ]
    },
    {
     "name": "stderr",
     "output_type": "stream",
     "text": [
      "Python REPL can execute arbitrary code. Use with caution.\n"
     ]
    },
    {
     "name": "stdout",
     "output_type": "stream",
     "text": [
      "\u001b[32;1m\u001b[1;3m I need to generate a list of random strings, sort them, and then print the result\n",
      "Action: Python_REPL\n",
      "Action Input: \n",
      "import random\n",
      "\n",
      "my_list = []\n",
      "for i in range(30):\n",
      "    my_list.append(''.join(random.choices(string.ascii_lowercase, k=4)))\n",
      "\n",
      "my_list.sort()\n",
      "print(my_list)\u001b[0m\n",
      "Observation: \u001b[36;1m\u001b[1;3mNameError(\"name 'string' is not defined\")\u001b[0m\n",
      "Thought:\u001b[32;1m\u001b[1;3m I need to import the string module\n",
      "Action: Python_REPL\n",
      "Action Input: \n",
      "import random\n",
      "import string\n",
      "\n",
      "my_list = []\n",
      "for i in range(30):\n",
      "    my_list.append(''.join(random.choices(string.ascii_lowercase, k=4)))\n",
      "\n",
      "my_list.sort()\n",
      "print(my_list)\u001b[0m\n",
      "Observation: \u001b[36;1m\u001b[1;3m['amwg', 'boxn', 'ciny', 'coso', 'dfui', 'guoa', 'gzul', 'htqg', 'isxr', 'iweo', 'lrzx', 'mclp', 'mpxn', 'nkuh', 'ohee', 'plpk', 'prmc', 'qvgt', 'raqp', 'shvw', 'skvr', 'twyv', 'ucpm', 'vcds', 'vozp', 'vtkg', 'xpyp', 'xyok', 'xzmw', 'xzvx']\n",
      "\u001b[0m\n",
      "Thought:\u001b[32;1m\u001b[1;3m I now know the final answer\n",
      "Final Answer: ['amwg', 'boxn', 'ciny', 'coso', 'dfui', 'guoa', 'gzul', 'htqg', 'isxr', 'iweo', 'lrzx', 'mclp', 'mpxn', 'nkuh', 'ohee', 'plpk', 'prmc', 'qvgt', 'raqp', 'shvw', 'skvr', 'twyv', 'ucpm', 'vcds', 'vozp', 'vtkg', 'xpyp', 'xyok', 'xzmw', 'xzvx']\u001b[0m\n",
      "\n",
      "\u001b[1m> Finished chain.\u001b[0m\n",
      "['amwg', 'boxn', 'ciny', 'coso', 'dfui', 'guoa', 'gzul', 'htqg', 'isxr', 'iweo', 'lrzx', 'mclp', 'mpxn', 'nkuh', 'ohee', 'plpk', 'prmc', 'qvgt', 'raqp', 'shvw', 'skvr', 'twyv', 'ucpm', 'vcds', 'vozp', 'vtkg', 'xpyp', 'xyok', 'xzmw', 'xzvx']\n"
     ]
    }
   ],
   "source": [
    "tools = load_tools([\"python_repl\"], llm=llm)\n",
    "agent = initialize_agent(\n",
    "    tools=tools,\n",
    "    llm=llm,\n",
    "    agent=AgentType.ZERO_SHOT_REACT_DESCRIPTION,\n",
    "    verbose=True,\n",
    ")\n",
    "\n",
    "print(agent.run(\"Create a list of random strings containing 4 letters, list should contain 30 examples, and sort the list alphabetically\"))"
   ]
  },
  {
   "cell_type": "markdown",
   "metadata": {},
   "source": [
    "# Wikipedia"
   ]
  },
  {
   "cell_type": "code",
   "execution_count": 37,
   "metadata": {},
   "outputs": [
    {
     "name": "stdout",
     "output_type": "stream",
     "text": [
      "\n",
      "\n",
      "\u001b[1m> Entering new AgentExecutor chain...\u001b[0m\n",
      "\u001b[32;1m\u001b[1;3m I need to find out what Nostradamus is known for\n",
      "Action: Wikipedia\n",
      "Action Input: Nostradamus\u001b[0m\n",
      "Observation: \u001b[36;1m\u001b[1;3mPage: Nostradamus\n",
      "Summary: Michel de Nostredame (December 1503 – July 1566), usually Latinised as Nostradamus, was a French astrologer, apothecary, physician, and reputed seer, who is best known for his book Les Prophéties (published in 1555), a collection of 942 poetic quatrains allegedly predicting future events.\n",
      "Nostradamus's father's family had originally been Jewish, but had converted to Catholic Christianity a generation before Nostradamus was born. He studied at the University of Avignon, but was forced to leave after just over a year when the university closed due to an outbreak of the plague. He worked as an apothecary for several years before entering the University of Montpellier, hoping to earn a doctorate, but was almost immediately expelled after his work as an apothecary (a manual trade forbidden by university statutes) was discovered. He first married in 1531, but his wife and two children died in 1534 during another plague outbreak. He fought alongside doctors against the plague before remarrying to Anne Ponsarde, with whom he had six children. He wrote an almanac for 1550 and, as a result of its success, continued writing them for future years as he began working as an astrologer for various wealthy patrons. Catherine de' Medici became one of his foremost supporters. His Les Prophéties, published in 1555, relied heavily on historical and literary precedent, and initially received mixed reception. He suffered from severe gout toward the end of his life, which eventually developed into edema. He died on 1 or 2 July 1566. Many popular authors have retold apocryphal legends about his life.\n",
      "In the years since the publication of his Les Prophéties, Nostradamus has attracted many supporters, who, along with some of the popular press, credit him with having accurately predicted many major world events. Academic sources reject the notion that Nostradamus had any genuine supernatural prophetic abilities and maintain that the associations made between world events and Nostradamus's quatrains are the result of (sometimes deliberate) misinterpretations or mistranslations. These academics also argue that Nostradamus's predictions are characteristically vague, meaning they could be applied to virtually anything, and are useless for determining whether their author had any real prophetic powers.\n",
      "\n",
      "Page: Nostradamus (album)\n",
      "Summary: Nostradamus is the sixteenth studio album by English heavy metal band Judas Priest, focusing on the 16th-century writer Nostradamus. It is a double album and the band's first concept album. It was originally intended to be released in late 2006 before being pushed back to a 2007 release, and was finally released on 17 June 2008 on Epic Records. It is the last Judas Priest studio album to feature the Painkiller-era lineup with guitarist and founding member K. K. Downing retiring in April 2011.Judas Priest toured with Motörhead, Heaven & Hell, and Testament on the Metal Masters Tour to promote Nostradamus. The band also performed a world tour in 2008 and 2009 in support of the album.\n",
      "\n",
      "Page: Chiren (Nostradamus)\n",
      "Summary: Chiren, also spelled Chyren and named as Selin and Seline, is a person who appears in the predictions of Nostradamus. Chiren would be a European, presumably from France, or a Hindu from India. The arrival of this person would coincide with a great war bringing several decades of suffering and several decades of peace. A man with a black frizzy beard would be an enemy of Chiren. According to Nostradamus, Chiren would eventually reign as a world leader and ensure long-lasting world peace.\u001b[0m\n",
      "Thought:\u001b[32;1m\u001b[1;3m I now know the final answer\n",
      "Final Answer: Nostradamus is known for his book Les Prophéties, which is a collection of 942 poetic quatrains allegedly predicting future events. He is also known for the figure of Chiren, who is said to bring about a great war and eventually reign as a world leader and ensure long-lasting world peace.\u001b[0m\n",
      "\n",
      "\u001b[1m> Finished chain.\u001b[0m\n",
      "Nostradamus is known for his book Les Prophéties, which is a collection of 942 poetic quatrains allegedly predicting future events. He is also known for the figure of Chiren, who is said to bring about a great war and eventually reign as a world leader and ensure long-lasting world peace.\n"
     ]
    }
   ],
   "source": [
    "tools = load_tools([\"wikipedia\"], llm=llm)\n",
    "agent = initialize_agent(\n",
    "    tools=tools,\n",
    "    llm=llm,\n",
    "    agent=AgentType.ZERO_SHOT_REACT_DESCRIPTION,\n",
    "    verbose=True,\n",
    ")\n",
    "\n",
    "print(agent.run(\"What is Nostradamus know for\"))"
   ]
  },
  {
   "cell_type": "code",
   "execution_count": 41,
   "metadata": {},
   "outputs": [
    {
     "name": "stdout",
     "output_type": "stream",
     "text": [
      "Assumption: 2 x + 5 = -3 x + 7 \n",
      "Answer: x = 2/5\n",
      "\n",
      "\n",
      "\u001b[1m> Entering new AgentExecutor chain...\u001b[0m\n",
      "\u001b[32;1m\u001b[1;3m I need to find out when the next Solar eclipse is\n",
      "Action: wolfram_alpha\n",
      "Action Input: When is the next Solar eclipse\u001b[0m\n",
      "Observation: \u001b[36;1m\u001b[1;3mAssumption: next | solar eclipse | after today \n",
      "Answer: Tuesday, April 9, 2024 (6 months from now)\u001b[0m\n",
      "Thought:\u001b[32;1m\u001b[1;3m I now know the final answer\n",
      "Final Answer: 6 months from now, on Tuesday, April 9, 2024.\u001b[0m\n",
      "\n",
      "\u001b[1m> Finished chain.\u001b[0m\n",
      "6 months from now, on Tuesday, April 9, 2024.\n"
     ]
    }
   ],
   "source": [
    "wolfram = WolframAlphaAPIWrapper()\n",
    "result = wolfram.run(\"What is 2x+5 = -3x + 7?\")\n",
    "print(result)  # Output: 'x = 2/5'\n",
    "\n",
    "agent = initialize_agent(\n",
    "    tools=load_tools([\"wolfram-alpha\"]),\n",
    "    llm=llm,\n",
    "    agent=AgentType.ZERO_SHOT_REACT_DESCRIPTION,\n",
    "    verbose=True  \n",
    ")\n",
    "\n",
    "print( agent.run(\"How many days until the next Solar eclipse\") )"
   ]
  },
  {
   "cell_type": "code",
   "execution_count": null,
   "metadata": {},
   "outputs": [],
   "source": [
    "agent = initialize_agent(\n",
    "    tools=load_tools([\"wolfram-alpha\", \"wikipedia\"], llm=llm),\n",
    "    llm=llm,\n",
    "    agent=AgentType.ZERO_SHOT_REACT_DESCRIPTION,\n",
    "    verbose=True\n",
    ")\n",
    "\n",
    "agent.run(\"Who is Olivia Wilde's boyfriend? What is his current age raised to the 0.23 power?\")"
   ]
  }
 ],
 "metadata": {
  "kernelspec": {
   "display_name": "venv",
   "language": "python",
   "name": "python3"
  },
  "language_info": {
   "codemirror_mode": {
    "name": "ipython",
    "version": 3
   },
   "file_extension": ".py",
   "mimetype": "text/x-python",
   "name": "python",
   "nbconvert_exporter": "python",
   "pygments_lexer": "ipython3",
   "version": "3.11.6"
  },
  "orig_nbformat": 4
 },
 "nbformat": 4,
 "nbformat_minor": 2
}
