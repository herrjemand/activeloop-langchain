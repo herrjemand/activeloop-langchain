{
 "cells": [
  {
   "cell_type": "code",
   "execution_count": 1,
   "metadata": {},
   "outputs": [
    {
     "data": {
      "text/plain": [
       "True"
      ]
     },
     "execution_count": 1,
     "metadata": {},
     "output_type": "execute_result"
    }
   ],
   "source": [
    "from dotenv import load_dotenv\n",
    "load_dotenv(dotenv_path='../.env')"
   ]
  },
  {
   "cell_type": "code",
   "execution_count": 1,
   "metadata": {},
   "outputs": [
    {
     "data": {
      "text/plain": [
       "'\\nThe latest Fast and Furious movie is Fast & Furious 9, which was released in May 2021.'"
      ]
     },
     "execution_count": 1,
     "metadata": {},
     "output_type": "execute_result"
    }
   ],
   "source": [
    "from langchain import LLMChain, PromptTemplate\n",
    "from langchain.llms import OpenAI\n",
    "\n",
    "llm = OpenAI(temperature=0)\n",
    "\n",
    "template = \"\"\"You are an assistant that answers the following question correctly and honestly: {question}\\n\\n\"\"\"\n",
    "prompt_template = PromptTemplate(input_variables=['question'], template=template)\n",
    "\n",
    "question_chain = LLMChain(llm=llm, prompt=prompt_template)\n",
    "question_chain.run(\"what is the latest fast and furious movie?\")"
   ]
  },
  {
   "cell_type": "code",
   "execution_count": 5,
   "metadata": {},
   "outputs": [
    {
     "name": "stdout",
     "output_type": "stream",
     "text": [
      "[{'title': 'Fast & Furious movies in order | chronological and release order ...', 'link': 'https://www.radiotimes.com/movies/fast-and-furious-order/', 'snippet': 'Mar 22, 2023 ... Fast & Furious Presents: Hobbs & Shaw (2019); F9 (2021); Fast and Furious 10 (2023). Tokyo Drift also marks the first appearance of Han Lue, a\\xa0...'}, {'title': 'FAST X | Official Trailer 2 - YouTube', 'link': 'https://www.youtube.com/watch?v=aOb15GVFZxU', 'snippet': 'Apr 19, 2023 ... FAST X | Official Trailer 2 · Comments10K.'}, {'title': 'Fast & Furious - Wikipedia', 'link': 'https://en.wikipedia.org/wiki/Fast_%26_Furious', 'snippet': 'Fast X was designed to be the final movie of the franchise which later evolved in becoming a two part finale. Justin Lin was brought back to direct both movies\\xa0...'}, {'title': \"Here's How to Watch Every Fast and Furious Movie In Order ...\", 'link': 'https://www.menshealth.com/entertainment/a36716650/fast-and-furious-movies-in-order/', 'snippet': \"Sep 18, 2023 ... Furious 7 is the last movie in the Fast and Furious series to feature the late Paul Walker (as Brian O'Conner), and the movie sends his\\xa0...\"}, {'title': 'How to Watch Fast and Furious Movies in Chronological Order - IGN', 'link': 'https://www.ign.com/articles/fast-and-furious-movies-in-order', 'snippet': \"F9 (2021) ... The series' most recent film before Fast X, once again directed by Justin Lin, pits Dom and the crew against Jakob Toretto, Dom's estranged brother\\xa0...\"}, {'title': \"All 11 'Fast and Furious' Movies, Ranked from Best to Worst\", 'link': 'https://www.menshealth.com/entertainment/g28645511/fast-and-furious-movies-ranked/', 'snippet': 'Sep 18, 2023 ... I Watched All 22 Hours and 56 Minutes of Fast and Furious Movies To Bring You This Ranking · 11. The Fate of the Furious (2017) · 10. 2 Fast 2\\xa0...'}, {'title': \"How many 'Fast & Furious' movies are there? Here's the list in order.\", 'link': 'https://www.usatoday.com/story/entertainment/movies/2022/07/29/fast-and-furious-movies-order-of-release/10062943002/', 'snippet': 'Jul 29, 2022 ... There are currently 10 films in the main \"Fast and Furious\" franchise. The latest installment, \"Fast X,\" released on May 19, 2023. There are\\xa0...'}, {'title': 'Fast & Furious Movies In Order: How to Watch Fast Saga ...', 'link': 'https://editorial.rottentomatoes.com/guide/fast-furious-movies-in-order/', 'snippet': 'After that, hop to franchise best Furious 7. Follow it up with The Fate of the Furious and spin-off Hobbs & Shaw and then the latest: F9 and Fast X. See below\\xa0...'}, {'title': 'Is Fast X the Last Movie of the Fast and Furious Franchise?', 'link': 'https://www.comingsoon.net/guides/news/1287501-is-fast-x-the-last-movie-fast-and-furious-franchise-final-one-10', 'snippet': \"May 11, 2023 ... Will there be another Fast and Furious movie? ... Fast X isn't the last movie of the Fast and Furious franchise, as Fast and Furious 11 is already\\xa0...\"}, {'title': 'Furious Six was the last good Fast and Furious. : r/movies', 'link': 'https://www.reddit.com/r/movies/comments/kkmvi3/furious_six_was_the_last_good_fast_and_furious/', 'snippet': \"Dec 26, 2020 ... Furious Six was the last good Fast and Furious. ... I know a lot of people hate pretty much every film in the franchise that isn't the original\\xa0...\"}]\n"
     ]
    }
   ],
   "source": [
    "from langchain.tools import Tool\n",
    "from langchain.utilities import GoogleSearchAPIWrapper\n",
    "\n",
    "search = GoogleSearchAPIWrapper()\n",
    "TOP_N_RESULTS = 10\n",
    "\n",
    "def top_n_results(query):\n",
    "    return search.results(query, TOP_N_RESULTS)\n",
    "\n",
    "tool = Tool(\n",
    "    name = \"Google Search\",\n",
    "    description = \"Searches Google for the top 10 results\",\n",
    "    func = top_n_results,\n",
    ")\n",
    "\n",
    "query = \"what is the latest fast and furious movie?\"\n",
    "\n",
    "results = tool.run(query)\n",
    "print(results)"
   ]
  },
  {
   "cell_type": "code",
   "execution_count": 6,
   "metadata": {},
   "outputs": [],
   "source": [
    "import newspaper\n",
    "\n",
    "pages_content = []\n",
    "\n",
    "for result in results:\n",
    "    try:\n",
    "        article = newspaper.Article(result[\"link\"])\n",
    "        article.download()\n",
    "        article.parse()\n",
    "        if len(article.text) > 0:\n",
    "            pages_content.append({ \"url\": result[\"link\"], \"text\": article.text })\n",
    "    except:\n",
    "        continue"
   ]
  },
  {
   "cell_type": "code",
   "execution_count": 8,
   "metadata": {},
   "outputs": [],
   "source": [
    "from langchain.text_splitter import RecursiveCharacterTextSplitter\n",
    "from langchain.docstore.document import Document\n",
    "\n",
    "text_splitter = RecursiveCharacterTextSplitter(chunk_size=4000, chunk_overlap=100)\n",
    "\n",
    "docs = []\n",
    "for d in pages_content:\n",
    "\tchunks = text_splitter.split_text(d[\"text\"])\n",
    "\tfor chunk in chunks:\n",
    "\t\tnew_doc = Document(page_content=chunk, metadata={ \"source\": d[\"url\"] })\n",
    "\t\tdocs.append(new_doc)    "
   ]
  },
  {
   "cell_type": "code",
   "execution_count": 9,
   "metadata": {},
   "outputs": [],
   "source": [
    "from langchain.embeddings import OpenAIEmbeddings\n",
    "\n",
    "embeddings = OpenAIEmbeddings(model=\"text-embedding-ada-002\")\n",
    "\n",
    "docs_embeddings = embeddings.embed_documents([doc.page_content for doc in docs])\n",
    "query_embedding = embeddings.embed_query(query)"
   ]
  },
  {
   "cell_type": "code",
   "execution_count": null,
   "metadata": {},
   "outputs": [],
   "source": [
    "import numpy as np\n",
    "from sklearn.metrics.pairwise import cosine_similarity\n",
    "\n",
    "def get_top_k_indices(list_of_doc_vectors, query_vector, top_k):\n",
    "  # convert the lists of vectors to numpy arrays\n",
    "  list_of_doc_vectors = np.array(list_of_doc_vectors)\n",
    "  query_vector = np.array(query_vector)\n",
    "\n",
    "  # compute cosine similarities\n",
    "  similarities = cosine_similarity(query_vector.reshape(1, -1), list_of_doc_vectors).flatten()\n",
    "\n",
    "  # sort the vectors based on cosine similarity\n",
    "  sorted_indices = np.argsort(similarities)[::-1]\n",
    "\n",
    "  # retrieve the top K indices from the sorted list\n",
    "  top_k_indices = sorted_indices[:top_k]\n",
    "\n",
    "  return top_k_indices\n",
    "\n",
    "top_k = 2\n",
    "best_indexes = get_top_k_indices(docs_embeddings, query_embedding, top_k)\n",
    "best_k_documents = [doc for i, doc in enumerate(docs) if i in best_indexes]"
   ]
  }
 ],
 "metadata": {
  "kernelspec": {
   "display_name": "venv",
   "language": "python",
   "name": "python3"
  },
  "language_info": {
   "codemirror_mode": {
    "name": "ipython",
    "version": 3
   },
   "file_extension": ".py",
   "mimetype": "text/x-python",
   "name": "python",
   "nbconvert_exporter": "python",
   "pygments_lexer": "ipython3",
   "version": "3.11.6"
  },
  "orig_nbformat": 4
 },
 "nbformat": 4,
 "nbformat_minor": 2
}
